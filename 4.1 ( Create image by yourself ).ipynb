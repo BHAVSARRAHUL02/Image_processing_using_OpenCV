{
 "cells": [
  {
   "cell_type": "markdown",
   "id": "263e80d4",
   "metadata": {},
   "source": [
    "# TASK 4.1 \n",
    "( CREATE IMAGE BY YOURSELF )"
   ]
  },
  {
   "cell_type": "code",
   "execution_count": 45,
   "id": "827036bc",
   "metadata": {},
   "outputs": [],
   "source": [
    "import cv2"
   ]
  },
  {
   "cell_type": "code",
   "execution_count": 46,
   "id": "7aa37e73",
   "metadata": {},
   "outputs": [],
   "source": [
    "import numpy"
   ]
  },
  {
   "cell_type": "code",
   "execution_count": 47,
   "id": "02dccdb5",
   "metadata": {},
   "outputs": [],
   "source": [
    "image_create = numpy.zeros((460,780,4), dtype=\"uint8\")"
   ]
  },
  {
   "cell_type": "code",
   "execution_count": 51,
   "id": "8d13407c",
   "metadata": {},
   "outputs": [],
   "source": [
    "for i in range(0,35):\n",
    "    radius = numpy.random.randint(10,high=200)\n",
    "    color = numpy.random.randint(0,high=1010, size=(3,)).tolist()\n",
    "    pt = numpy.random.randint(10,high=4000, size=(2,))\n",
    "    cv2.circle(image_create, tuple(pt), radius , color ,-1)\n",
    "    \n",
    "cv2.imshow(\"RAHUL BHAVSAR\",image_create)\n",
    "cv2.waitKey()\n",
    "cv2.destroyAllWindows()"
   ]
  },
  {
   "cell_type": "code",
   "execution_count": null,
   "id": "e8425bf2",
   "metadata": {},
   "outputs": [],
   "source": []
  }
 ],
 "metadata": {
  "kernelspec": {
   "display_name": "Python 3",
   "language": "python",
   "name": "python3"
  },
  "language_info": {
   "codemirror_mode": {
    "name": "ipython",
    "version": 3
   },
   "file_extension": ".py",
   "mimetype": "text/x-python",
   "name": "python",
   "nbconvert_exporter": "python",
   "pygments_lexer": "ipython3",
   "version": "3.8.8"
  }
 },
 "nbformat": 4,
 "nbformat_minor": 5
}
