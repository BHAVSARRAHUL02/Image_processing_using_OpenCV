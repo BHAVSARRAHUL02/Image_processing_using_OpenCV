{
 "cells": [
  {
   "cell_type": "markdown",
   "id": "88474381",
   "metadata": {},
   "source": [
    "# TASK 4.2 \n",
    "\n",
    "(Take 2 Crop some part of both image and swap it. )\n"
   ]
  },
  {
   "cell_type": "code",
   "execution_count": 39,
   "id": "6ba3fccc",
   "metadata": {},
   "outputs": [],
   "source": [
    "import cv2"
   ]
  },
  {
   "cell_type": "code",
   "execution_count": 40,
   "id": "63d642d9",
   "metadata": {},
   "outputs": [],
   "source": [
    "Capture_one = cv2.imread(\"PICTURE1.jpg\")"
   ]
  },
  {
   "cell_type": "code",
   "execution_count": 41,
   "id": "268f50db",
   "metadata": {},
   "outputs": [
    {
     "data": {
      "text/plain": [
       "(654, 508, 3)"
      ]
     },
     "execution_count": 41,
     "metadata": {},
     "output_type": "execute_result"
    }
   ],
   "source": [
    "Capture_one.shape"
   ]
  },
  {
   "cell_type": "code",
   "execution_count": 42,
   "id": "0fc8273b",
   "metadata": {},
   "outputs": [],
   "source": [
    "Capture_second = cv2.imread(\"PICTURE2.jpg\")"
   ]
  },
  {
   "cell_type": "code",
   "execution_count": 43,
   "id": "6e44e439",
   "metadata": {},
   "outputs": [
    {
     "data": {
      "text/plain": [
       "(706, 612, 3)"
      ]
     },
     "execution_count": 43,
     "metadata": {},
     "output_type": "execute_result"
    }
   ],
   "source": [
    "Capture_second.shape"
   ]
  },
  {
   "cell_type": "markdown",
   "id": "b4ebad19",
   "metadata": {},
   "source": [
    "# Display both the picture "
   ]
  },
  {
   "cell_type": "code",
   "execution_count": 44,
   "id": "bb82acf7",
   "metadata": {},
   "outputs": [],
   "source": [
    "cv2.imshow(\"PICTURE2\", Capture_second)\n",
    "cv2.imshow(\"PICTURE1\", Capture_one)\n",
    "cv2.waitKey()\n",
    "cv2.destroyAllWindows()"
   ]
  },
  {
   "cell_type": "markdown",
   "id": "8b57d168",
   "metadata": {},
   "source": [
    "# swap and crop Picture1 on Picture2"
   ]
  },
  {
   "cell_type": "code",
   "execution_count": 45,
   "id": "cacb365d",
   "metadata": {},
   "outputs": [],
   "source": [
    "Crop_Capture_one = Capture_one[45:355,100:420]\n",
    "Capture_second[45:355,100:420] = Crop_Capture_one\n",
    "cv2.imshow(\"Swaping\", Capture_second)\n",
    "cv2.waitKey()\n",
    "cv2.destroyAllWindows()"
   ]
  },
  {
   "cell_type": "markdown",
   "id": "21fdc5e4",
   "metadata": {},
   "source": [
    "\n",
    "#  swap and crop Picture2 on Picture1"
   ]
  },
  {
   "cell_type": "code",
   "execution_count": 46,
   "id": "89aac702",
   "metadata": {},
   "outputs": [],
   "source": [
    "Capture_second = cv2.imread(\"PICTURE2.jpg\")\n",
    "Crop_Capture_second = Capture_second[100:300, 200:400]\n",
    "Capture_one[100:300, 200:400] = Crop_Capture_second\n",
    "cv2.imshow(\"Swaping\", Capture_one)\n",
    "cv2.waitKey()\n",
    "cv2.destroyAllWindows()"
   ]
  },
  {
   "cell_type": "code",
   "execution_count": null,
   "id": "c8c01533",
   "metadata": {},
   "outputs": [],
   "source": []
  }
 ],
 "metadata": {
  "kernelspec": {
   "display_name": "Python 3",
   "language": "python",
   "name": "python3"
  },
  "language_info": {
   "codemirror_mode": {
    "name": "ipython",
    "version": 3
   },
   "file_extension": ".py",
   "mimetype": "text/x-python",
   "name": "python",
   "nbconvert_exporter": "python",
   "pygments_lexer": "ipython3",
   "version": "3.8.8"
  }
 },
 "nbformat": 4,
 "nbformat_minor": 5
}
