{
 "cells": [
  {
   "cell_type": "markdown",
   "id": "9d1513fd",
   "metadata": {},
   "source": [
    "\n",
    "# TASK 4.3\n",
    "\n",
    "(Take 2 image and combine it to form single image. For example collage )"
   ]
  },
  {
   "cell_type": "code",
   "execution_count": 59,
   "id": "bb444ed6",
   "metadata": {},
   "outputs": [],
   "source": [
    "import cv2"
   ]
  },
  {
   "cell_type": "code",
   "execution_count": 60,
   "id": "edd3f592",
   "metadata": {},
   "outputs": [],
   "source": [
    "Man = cv2.imread(\"Man.jpg\")"
   ]
  },
  {
   "cell_type": "code",
   "execution_count": 61,
   "id": "5a617e4f",
   "metadata": {},
   "outputs": [
    {
     "data": {
      "text/plain": [
       "(723, 953, 3)"
      ]
     },
     "execution_count": 61,
     "metadata": {},
     "output_type": "execute_result"
    }
   ],
   "source": [
    "Man.shape"
   ]
  },
  {
   "cell_type": "code",
   "execution_count": 62,
   "id": "84f4607a",
   "metadata": {},
   "outputs": [],
   "source": [
    "Mars =  cv2.imread(\"Mars.jpg\")"
   ]
  },
  {
   "cell_type": "code",
   "execution_count": 63,
   "id": "1471d0e4",
   "metadata": {},
   "outputs": [
    {
     "data": {
      "text/plain": [
       "(813, 1196, 3)"
      ]
     },
     "execution_count": 63,
     "metadata": {},
     "output_type": "execute_result"
    }
   ],
   "source": [
    "Mars.shape"
   ]
  },
  {
   "cell_type": "markdown",
   "id": "7a59c055",
   "metadata": {},
   "source": [
    "# Crop And Display First Picture"
   ]
  },
  {
   "cell_type": "code",
   "execution_count": 65,
   "id": "72c370a0",
   "metadata": {},
   "outputs": [],
   "source": [
    "Crop_Man = Man[:699, :]\n",
    "cv2.imshow(\"Man\",Crop_Man)\n",
    "cv2.waitKey()\n",
    "cv2.destroyAllWindows()"
   ]
  },
  {
   "cell_type": "code",
   "execution_count": 66,
   "id": "8a8cbc19",
   "metadata": {},
   "outputs": [
    {
     "data": {
      "text/plain": [
       "(699, 953, 3)"
      ]
     },
     "execution_count": 66,
     "metadata": {},
     "output_type": "execute_result"
    }
   ],
   "source": [
    "Crop_Man.shape"
   ]
  },
  {
   "cell_type": "markdown",
   "id": "f5163899",
   "metadata": {},
   "source": [
    "# Crop And Display Second Picture"
   ]
  },
  {
   "cell_type": "code",
   "execution_count": 67,
   "id": "4e7731c1",
   "metadata": {},
   "outputs": [],
   "source": [
    "Crop_Mars = Mars[:699, :]\n",
    "cv2.imshow(\"Mars\",Crop_Mars)\n",
    "cv2.waitKey()\n",
    "cv2.destroyAllWindows()"
   ]
  },
  {
   "cell_type": "code",
   "execution_count": 69,
   "id": "56e64e26",
   "metadata": {},
   "outputs": [],
   "source": [
    "import numpy "
   ]
  },
  {
   "cell_type": "markdown",
   "id": "deecad80",
   "metadata": {},
   "source": [
    "# Combine Both the picture after Cropping"
   ]
  },
  {
   "cell_type": "code",
   "execution_count": 68,
   "id": "b4655720",
   "metadata": {},
   "outputs": [],
   "source": [
    "Man_on_the_mars = numpy.hstack((Crop_Man, Crop_Mars))"
   ]
  },
  {
   "cell_type": "markdown",
   "id": "e103950f",
   "metadata": {},
   "source": [
    "# Display Combined Picture"
   ]
  },
  {
   "cell_type": "code",
   "execution_count": 70,
   "id": "9114e2a3",
   "metadata": {},
   "outputs": [],
   "source": [
    "cv2.imshow(\"Man_on_the_mars\",Man_on_the_mars)\n",
    "cv2.waitKey()\n",
    "cv2.destroyAllWindows()"
   ]
  },
  {
   "cell_type": "code",
   "execution_count": null,
   "id": "b1951f0e",
   "metadata": {},
   "outputs": [],
   "source": []
  }
 ],
 "metadata": {
  "kernelspec": {
   "display_name": "Python 3",
   "language": "python",
   "name": "python3"
  },
  "language_info": {
   "codemirror_mode": {
    "name": "ipython",
    "version": 3
   },
   "file_extension": ".py",
   "mimetype": "text/x-python",
   "name": "python",
   "nbconvert_exporter": "python",
   "pygments_lexer": "ipython3",
   "version": "3.8.8"
  }
 },
 "nbformat": 4,
 "nbformat_minor": 5
}
